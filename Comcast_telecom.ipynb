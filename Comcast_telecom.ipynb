{
 "cells": [
  {
   "cell_type": "markdown",
   "id": "19a43b64",
   "metadata": {},
   "source": [
    "# COMCAST TELECOMMUNICATION"
   ]
  },
  {
   "attachments": {
    "images-4.png": {
     "image/png": "[encoded data removed]"
    }
   },
   "cell_type": "markdown",
   "id": "70b0a21f",
   "metadata": {},
   "source": [
    "![images-4.png](attachment:images-4.png)"
   ]
  },
  {
   "cell_type": "markdown",
   "id": "c91ace53",
   "metadata": {},
   "source": [
    "###### DESCRIPTION :\n",
    "Comcast is an American global telecommunication company. The firm has been providing terrible customer service. They continue to fall short despite repeated promises to improve. Only last month (October 2016) the authority fined them a $2.3 million, after receiving over 1000 consumer complaints.\n",
    "The existing database will serve as a repository of public customer complaints filed against Comcast.\n",
    "It will help to pin down what is wrong with Comcast's customer service.\n"
   ]
  },
  {
   "cell_type": "markdown",
   "id": "8d271516",
   "metadata": {},
   "source": [
    "###### Data Dictionary\n",
    "* Ticket #: Ticket number assigned to each complaint\n",
    "* Customer Complaint: Description of complaint\n",
    "* Date: Date of complaint\n",
    "* Time: Time of complaint\n",
    "* Received Via: Mode of communication of the complaint\n",
    "* City: Customer city\n",
    "* State: Customer state\n",
    "* Zipcode: Customer zip\n",
    "* Status: Status of complaint\n",
    "* Filing on behalf of someone\n"
   ]
  },
  {
   "cell_type": "markdown",
   "id": "5d95e847",
   "metadata": {},
   "source": [
    "###### Analysis Task :\n",
    "1.Provide the trend chart for the number of complaints at monthly and daily granularity levels.<br> \n",
    "2.Provide a table with the frequency of complaint types.<br> \n",
    "3.Which complaint types are maximum i.e., around internet, network issues, or across any other domains.<br> \n",
    "4.Create a new categorical variable with value as Open and Closed. Open & Pending is to be categorized as Open and Closed & Solved is to be categorized as Closed.<br> \n",
    "5.Provide state wise status of complaints in a stacked bar chart. Use the categorized variable from Q3. Provide insights on:\n",
    "6.Which state has the maximum complaints<br> \n",
    "7.Which state has the highest percentage of unresolved complaints<br> \n",
    "8.Provide the percentage of complaints resolved till date, which were received through the Internet and customer care calls."
   ]
  },
  {
   "cell_type": "markdown",
   "id": "026edb4b",
   "metadata": {},
   "source": [
    "### Importing the Library"
   ]
  },
  {
   "cell_type": "code",
   "execution_count": 1,
   "id": "f49023d9",
   "metadata": {},
   "outputs": [],
   "source": [
    "#Importing Python library for reading, writing, and perform basic operations\n",
    "import numpy as np\n",
    "import pandas as pd\n",
    "\n",
    "# Importing library for visualization\n",
    "import matplotlib.pyplot as plt\n",
    "import seaborn as sns"
   ]
  },
  {
   "cell_type": "markdown",
   "id": "d36128fa",
   "metadata": {},
   "source": [
    "### Reading the Data"
   ]
  },
  {
   "cell_type": "code",
   "execution_count": 2,
   "id": "1d52d895",
   "metadata": {},
   "outputs": [],
   "source": [
    "df = pd.read_csv('C:/Users/Administrator/Desktop/telecom_complaints_data/comcast_telecom_complaints.csv')"
   ]
  },
  {
   "cell_type": "code",
   "execution_count": 3,
   "id": "2995fd4f",
   "metadata": {
    "scrolled": true
   },
   "outputs": [
    {
     "data": {
      "text/html": [
       "<div>\n",
       "<style scoped>\n",
       "    .dataframe tbody tr th:only-of-type {\n",
       "        vertical-align: middle;\n",
       "    }\n",
       "\n",
       "    .dataframe tbody tr th {\n",
       "        vertical-align: top;\n",
       "    }\n",
       "\n",
       "    .dataframe thead th {\n",
       "        text-align: right;\n",
       "    }\n",
       "</style>\n",
       "<table border=\"1\" class=\"dataframe\">\n",
       "  <thead>\n",
       "    <tr style=\"text-align: right;\">\n",
       "      <th></th>\n",
       "      <th>Ticket #</th>\n",
       "      <th>Customer Complaint</th>\n",
       "      <th>Date</th>\n",
       "      <th>Date_month_year</th>\n",
       "      <th>Time</th>\n",
       "      <th>Received Via</th>\n",
       "      <th>City</th>\n",
       "      <th>State</th>\n",
       "      <th>Zip code</th>\n",
       "      <th>Status</th>\n",
       "      <th>Filing on Behalf of Someone</th>\n",
       "    </tr>\n",
       "  </thead>\n",
       "  <tbody>\n",
       "    <tr>\n",
       "      <th>0</th>\n",
       "      <td>250635</td>\n",
       "      <td>Comcast Cable Internet Speeds</td>\n",
       "      <td>22-04-15</td>\n",
       "      <td>22-Apr-15</td>\n",
       "      <td>3:53:50 PM</td>\n",
       "      <td>Customer Care Call</td>\n",
       "      <td>Abingdon</td>\n",
       "      <td>Maryland</td>\n",
       "      <td>21009</td>\n",
       "      <td>Closed</td>\n",
       "      <td>No</td>\n",
       "    </tr>\n",
       "    <tr>\n",
       "      <th>1</th>\n",
       "      <td>223441</td>\n",
       "      <td>Payment disappear - service got disconnected</td>\n",
       "      <td>04-08-15</td>\n",
       "      <td>04-Aug-15</td>\n",
       "      <td>10:22:56 AM</td>\n",
       "      <td>Internet</td>\n",
       "      <td>Acworth</td>\n",
       "      <td>Georgia</td>\n",
       "      <td>30102</td>\n",
       "      <td>Closed</td>\n",
       "      <td>No</td>\n",
       "    </tr>\n",
       "    <tr>\n",
       "      <th>2</th>\n",
       "      <td>242732</td>\n",
       "      <td>Speed and Service</td>\n",
       "      <td>18-04-15</td>\n",
       "      <td>18-Apr-15</td>\n",
       "      <td>9:55:47 AM</td>\n",
       "      <td>Internet</td>\n",
       "      <td>Acworth</td>\n",
       "      <td>Georgia</td>\n",
       "      <td>30101</td>\n",
       "      <td>Closed</td>\n",
       "      <td>Yes</td>\n",
       "    </tr>\n",
       "    <tr>\n",
       "      <th>3</th>\n",
       "      <td>277946</td>\n",
       "      <td>Comcast Imposed a New Usage Cap of 300GB that ...</td>\n",
       "      <td>05-07-15</td>\n",
       "      <td>05-Jul-15</td>\n",
       "      <td>11:59:35 AM</td>\n",
       "      <td>Internet</td>\n",
       "      <td>Acworth</td>\n",
       "      <td>Georgia</td>\n",
       "      <td>30101</td>\n",
       "      <td>Open</td>\n",
       "      <td>Yes</td>\n",
       "    </tr>\n",
       "    <tr>\n",
       "      <th>4</th>\n",
       "      <td>307175</td>\n",
       "      <td>Comcast not working and no service to boot</td>\n",
       "      <td>26-05-15</td>\n",
       "      <td>26-May-15</td>\n",
       "      <td>1:25:26 PM</td>\n",
       "      <td>Internet</td>\n",
       "      <td>Acworth</td>\n",
       "      <td>Georgia</td>\n",
       "      <td>30101</td>\n",
       "      <td>Solved</td>\n",
       "      <td>No</td>\n",
       "    </tr>\n",
       "  </tbody>\n",
       "</table>\n",
       "</div>"
      ],
      "text/plain": [
       "  Ticket #                                 Customer Complaint      Date  \\\n",
       "0   250635                      Comcast Cable Internet Speeds  22-04-15   \n",
       "1   223441       Payment disappear - service got disconnected  04-08-15   \n",
       "2   242732                                  Speed and Service  18-04-15   \n",
       "3   277946  Comcast Imposed a New Usage Cap of 300GB that ...  05-07-15   \n",
       "4   307175         Comcast not working and no service to boot  26-05-15   \n",
       "\n",
       "  Date_month_year         Time        Received Via      City     State  \\\n",
       "0       22-Apr-15   3:53:50 PM  Customer Care Call  Abingdon  Maryland   \n",
       "1       04-Aug-15  10:22:56 AM            Internet   Acworth   Georgia   \n",
       "2       18-Apr-15   9:55:47 AM            Internet   Acworth   Georgia   \n",
       "3       05-Jul-15  11:59:35 AM            Internet   Acworth   Georgia   \n",
       "4       26-May-15   1:25:26 PM            Internet   Acworth   Georgia   \n",
       "\n",
       "   Zip code  Status Filing on Behalf of Someone  \n",
       "0     21009  Closed                          No  \n",
       "1     30102  Closed                          No  \n",
       "2     30101  Closed                         Yes  \n",
       "3     30101    Open                         Yes  \n",
       "4     30101  Solved                          No  "
      ]
     },
     "execution_count": 3,
     "metadata": {},
     "output_type": "execute_result"
    }
   ],
   "source": [
    "df.head()"
   ]
  },
  {
   "cell_type": "code",
   "execution_count": 4,
   "id": "776c7f2f",
   "metadata": {},
   "outputs": [
    {
     "data": {
      "text/plain": [
       "(2224, 11)"
      ]
     },
     "execution_count": 4,
     "metadata": {},
     "output_type": "execute_result"
    }
   ],
   "source": [
    "#Checking the shape of a dataset\n",
    "df.shape"
   ]
  },
  {
   "cell_type": "code",
   "execution_count": 5,
   "id": "1575afff",
   "metadata": {
    "scrolled": true
   },
   "outputs": [
    {
     "name": "stdout",
     "output_type": "stream",
     "text": [
      "<class 'pandas.core.frame.DataFrame'>\n",
      "RangeIndex: 2224 entries, 0 to 2223\n",
      "Data columns (total 11 columns):\n",
      " #   Column                       Non-Null Count  Dtype \n",
      "---  ------                       --------------  ----- \n",
      " 0   Ticket #                     2224 non-null   object\n",
      " 1   Customer Complaint           2224 non-null   object\n",
      " 2   Date                         2224 non-null   object\n",
      " 3   Date_month_year              2224 non-null   object\n",
      " 4   Time                         2224 non-null   object\n",
      " 5   Received Via                 2224 non-null   object\n",
      " 6   City                         2224 non-null   object\n",
      " 7   State                        2224 non-null   object\n",
      " 8   Zip code                     2224 non-null   int64 \n",
      " 9   Status                       2224 non-null   object\n",
      " 10  Filing on Behalf of Someone  2224 non-null   object\n",
      "dtypes: int64(1), object(10)\n",
      "memory usage: 104.3+ KB\n"
     ]
    }
   ],
   "source": [
    "df.info()"
   ]
  },
  {
   "cell_type": "code",
   "execution_count": 6,
   "id": "2542a8ec",
   "metadata": {},
   "outputs": [
    {
     "data": {
      "text/html": [
       "<div>\n",
       "<style scoped>\n",
       "    .dataframe tbody tr th:only-of-type {\n",
       "        vertical-align: middle;\n",
       "    }\n",
       "\n",
       "    .dataframe tbody tr th {\n",
       "        vertical-align: top;\n",
       "    }\n",
       "\n",
       "    .dataframe thead th {\n",
       "        text-align: right;\n",
       "    }\n",
       "</style>\n",
       "<table border=\"1\" class=\"dataframe\">\n",
       "  <thead>\n",
       "    <tr style=\"text-align: right;\">\n",
       "      <th></th>\n",
       "      <th>Zip code</th>\n",
       "    </tr>\n",
       "  </thead>\n",
       "  <tbody>\n",
       "    <tr>\n",
       "      <th>count</th>\n",
       "      <td>2224.000000</td>\n",
       "    </tr>\n",
       "    <tr>\n",
       "      <th>mean</th>\n",
       "      <td>47994.393435</td>\n",
       "    </tr>\n",
       "    <tr>\n",
       "      <th>std</th>\n",
       "      <td>28885.279427</td>\n",
       "    </tr>\n",
       "    <tr>\n",
       "      <th>min</th>\n",
       "      <td>1075.000000</td>\n",
       "    </tr>\n",
       "    <tr>\n",
       "      <th>25%</th>\n",
       "      <td>30056.500000</td>\n",
       "    </tr>\n",
       "    <tr>\n",
       "      <th>50%</th>\n",
       "      <td>37211.000000</td>\n",
       "    </tr>\n",
       "    <tr>\n",
       "      <th>75%</th>\n",
       "      <td>77058.750000</td>\n",
       "    </tr>\n",
       "    <tr>\n",
       "      <th>max</th>\n",
       "      <td>99223.000000</td>\n",
       "    </tr>\n",
       "  </tbody>\n",
       "</table>\n",
       "</div>"
      ],
      "text/plain": [
       "           Zip code\n",
       "count   2224.000000\n",
       "mean   47994.393435\n",
       "std    28885.279427\n",
       "min     1075.000000\n",
       "25%    30056.500000\n",
       "50%    37211.000000\n",
       "75%    77058.750000\n",
       "max    99223.000000"
      ]
     },
     "execution_count": 6,
     "metadata": {},
     "output_type": "execute_result"
    }
   ],
   "source": [
    "df.describe()"
   ]
  },
  {
   "cell_type": "code",
   "execution_count": 7,
   "id": "df804800",
   "metadata": {},
   "outputs": [
    {
     "name": "stdout",
     "output_type": "stream",
     "text": [
      "Ticket #                       0\n",
      "Customer Complaint             0\n",
      "Date                           0\n",
      "Date_month_year                0\n",
      "Time                           0\n",
      "Received Via                   0\n",
      "City                           0\n",
      "State                          0\n",
      "Zip code                       0\n",
      "Status                         0\n",
      "Filing on Behalf of Someone    0\n",
      "dtype: int64\n"
     ]
    }
   ],
   "source": [
    "print(df.isnull().sum())"
   ]
  },
  {
   "cell_type": "code",
   "execution_count": 8,
   "id": "89e74f6c",
   "metadata": {},
   "outputs": [
    {
     "name": "stdout",
     "output_type": "stream",
     "text": [
      "<class 'pandas.core.frame.DataFrame'>\n",
      "RangeIndex: 2224 entries, 0 to 2223\n",
      "Data columns (total 11 columns):\n",
      " #   Column                       Non-Null Count  Dtype         \n",
      "---  ------                       --------------  -----         \n",
      " 0   Ticket #                     2224 non-null   object        \n",
      " 1   Customer Complaint           2224 non-null   object        \n",
      " 2   Date                         2224 non-null   object        \n",
      " 3   Date_month_year              2224 non-null   datetime64[ns]\n",
      " 4   Time                         2224 non-null   object        \n",
      " 5   Received Via                 2224 non-null   object        \n",
      " 6   City                         2224 non-null   object        \n",
      " 7   State                        2224 non-null   object        \n",
      " 8   Zip code                     2224 non-null   int64         \n",
      " 9   Status                       2224 non-null   object        \n",
      " 10  Filing on Behalf of Someone  2224 non-null   object        \n",
      "dtypes: datetime64[ns](1), int64(1), object(9)\n",
      "memory usage: 113.0+ KB\n"
     ]
    }
   ],
   "source": [
    "# Change the datatype of \"Date_month_year\" and \"Date_Time\".\n",
    "df[\"Date_month_year\"] = pd.to_datetime(df[\"Date_month_year\"])\n",
    "\n",
    "df.info()"
   ]
  },
  {
   "cell_type": "code",
   "execution_count": 9,
   "id": "e61fba0d",
   "metadata": {},
   "outputs": [
    {
     "data": {
      "text/html": [
       "<div>\n",
       "<style scoped>\n",
       "    .dataframe tbody tr th:only-of-type {\n",
       "        vertical-align: middle;\n",
       "    }\n",
       "\n",
       "    .dataframe tbody tr th {\n",
       "        vertical-align: top;\n",
       "    }\n",
       "\n",
       "    .dataframe thead th {\n",
       "        text-align: right;\n",
       "    }\n",
       "</style>\n",
       "<table border=\"1\" class=\"dataframe\">\n",
       "  <thead>\n",
       "    <tr style=\"text-align: right;\">\n",
       "      <th></th>\n",
       "      <th>Ticket #</th>\n",
       "      <th>Customer Complaint</th>\n",
       "      <th>Date</th>\n",
       "      <th>Date_month_year</th>\n",
       "      <th>Time</th>\n",
       "      <th>Received Via</th>\n",
       "      <th>City</th>\n",
       "      <th>State</th>\n",
       "      <th>Zip code</th>\n",
       "      <th>Status</th>\n",
       "      <th>Filing on Behalf of Someone</th>\n",
       "    </tr>\n",
       "  </thead>\n",
       "  <tbody>\n",
       "    <tr>\n",
       "      <th>0</th>\n",
       "      <td>250635</td>\n",
       "      <td>Comcast Cable Internet Speeds</td>\n",
       "      <td>22-04-15</td>\n",
       "      <td>2015-04-22</td>\n",
       "      <td>3:53:50 PM</td>\n",
       "      <td>Customer Care Call</td>\n",
       "      <td>Abingdon</td>\n",
       "      <td>Maryland</td>\n",
       "      <td>21009</td>\n",
       "      <td>Closed</td>\n",
       "      <td>No</td>\n",
       "    </tr>\n",
       "    <tr>\n",
       "      <th>1</th>\n",
       "      <td>223441</td>\n",
       "      <td>Payment disappear - service got disconnected</td>\n",
       "      <td>04-08-15</td>\n",
       "      <td>2015-08-04</td>\n",
       "      <td>10:22:56 AM</td>\n",
       "      <td>Internet</td>\n",
       "      <td>Acworth</td>\n",
       "      <td>Georgia</td>\n",
       "      <td>30102</td>\n",
       "      <td>Closed</td>\n",
       "      <td>No</td>\n",
       "    </tr>\n",
       "    <tr>\n",
       "      <th>2</th>\n",
       "      <td>242732</td>\n",
       "      <td>Speed and Service</td>\n",
       "      <td>18-04-15</td>\n",
       "      <td>2015-04-18</td>\n",
       "      <td>9:55:47 AM</td>\n",
       "      <td>Internet</td>\n",
       "      <td>Acworth</td>\n",
       "      <td>Georgia</td>\n",
       "      <td>30101</td>\n",
       "      <td>Closed</td>\n",
       "      <td>Yes</td>\n",
       "    </tr>\n",
       "    <tr>\n",
       "      <th>3</th>\n",
       "      <td>277946</td>\n",
       "      <td>Comcast Imposed a New Usage Cap of 300GB that ...</td>\n",
       "      <td>05-07-15</td>\n",
       "      <td>2015-07-05</td>\n",
       "      <td>11:59:35 AM</td>\n",
       "      <td>Internet</td>\n",
       "      <td>Acworth</td>\n",
       "      <td>Georgia</td>\n",
       "      <td>30101</td>\n",
       "      <td>Open</td>\n",
       "      <td>Yes</td>\n",
       "    </tr>\n",
       "    <tr>\n",
       "      <th>4</th>\n",
       "      <td>307175</td>\n",
       "      <td>Comcast not working and no service to boot</td>\n",
       "      <td>26-05-15</td>\n",
       "      <td>2015-05-26</td>\n",
       "      <td>1:25:26 PM</td>\n",
       "      <td>Internet</td>\n",
       "      <td>Acworth</td>\n",
       "      <td>Georgia</td>\n",
       "      <td>30101</td>\n",
       "      <td>Solved</td>\n",
       "      <td>No</td>\n",
       "    </tr>\n",
       "  </tbody>\n",
       "</table>\n",
       "</div>"
      ],
      "text/plain": [
       "  Ticket #                                 Customer Complaint      Date  \\\n",
       "0   250635                      Comcast Cable Internet Speeds  22-04-15   \n",
       "1   223441       Payment disappear - service got disconnected  04-08-15   \n",
       "2   242732                                  Speed and Service  18-04-15   \n",
       "3   277946  Comcast Imposed a New Usage Cap of 300GB that ...  05-07-15   \n",
       "4   307175         Comcast not working and no service to boot  26-05-15   \n",
       "\n",
       "  Date_month_year         Time        Received Via      City     State  \\\n",
       "0      2015-04-22   3:53:50 PM  Customer Care Call  Abingdon  Maryland   \n",
       "1      2015-08-04  10:22:56 AM            Internet   Acworth   Georgia   \n",
       "2      2015-04-18   9:55:47 AM            Internet   Acworth   Georgia   \n",
       "3      2015-07-05  11:59:35 AM            Internet   Acworth   Georgia   \n",
       "4      2015-05-26   1:25:26 PM            Internet   Acworth   Georgia   \n",
       "\n",
       "   Zip code  Status Filing on Behalf of Someone  \n",
       "0     21009  Closed                          No  \n",
       "1     30102  Closed                          No  \n",
       "2     30101  Closed                         Yes  \n",
       "3     30101    Open                         Yes  \n",
       "4     30101  Solved                          No  "
      ]
     },
     "execution_count": 9,
     "metadata": {},
     "output_type": "execute_result"
    }
   ],
   "source": [
    "df.head()"
   ]
  },
  {
   "cell_type": "markdown",
   "id": "99d29723",
   "metadata": {},
   "source": [
    "### 1. Provide the trend chart for the number of complaints at monthly and daily granularity levels."
   ]
  },
  {
   "cell_type": "code",
   "execution_count": 10,
   "id": "39f3840e",
   "metadata": {},
   "outputs": [
    {
     "data": {
      "text/plain": [
       "2015-06-24    218\n",
       "2015-06-23    190\n",
       "2015-06-25     98\n",
       "2015-06-26     55\n",
       "2015-06-30     53\n",
       "             ... \n",
       "2015-02-05      7\n",
       "2015-12-05      7\n",
       "2015-05-04      6\n",
       "2015-03-05      5\n",
       "2015-11-04      5\n",
       "Name: Date_month_year, Length: 91, dtype: int64"
      ]
     },
     "execution_count": 10,
     "metadata": {},
     "output_type": "execute_result"
    }
   ],
   "source": [
    "# checking the trend chart for the number of complaints on daily granularity levels.\n",
    "df[\"Date_month_year\"].value_counts()"
   ]
  },
  {
   "cell_type": "code",
   "execution_count": 11,
   "id": "1d20c0ab",
   "metadata": {},
   "outputs": [
    {
     "data": {
      "image/png": "[encoded data removed]",
      "text/plain": [
       "<Figure size 432x288 with 1 Axes>"
      ]
     },
     "metadata": {
      "needs_background": "light"
     },
     "output_type": "display_data"
    }
   ],
   "source": [
    "df[\"Date_month_year\"].value_counts().plot();"
   ]
  },
  {
   "cell_type": "markdown",
   "id": "8830aef9",
   "metadata": {},
   "source": [
    "June 24th, 2015 has the highest number of complaints"
   ]
  },
  {
   "cell_type": "code",
   "execution_count": 12,
   "id": "1b4e4a05",
   "metadata": {},
   "outputs": [
    {
     "data": {
      "text/html": [
       "<div>\n",
       "<style scoped>\n",
       "    .dataframe tbody tr th:only-of-type {\n",
       "        vertical-align: middle;\n",
       "    }\n",
       "\n",
       "    .dataframe tbody tr th {\n",
       "        vertical-align: top;\n",
       "    }\n",
       "\n",
       "    .dataframe thead th {\n",
       "        text-align: right;\n",
       "    }\n",
       "</style>\n",
       "<table border=\"1\" class=\"dataframe\">\n",
       "  <thead>\n",
       "    <tr style=\"text-align: right;\">\n",
       "      <th></th>\n",
       "      <th>Ticket #</th>\n",
       "      <th>Customer Complaint</th>\n",
       "      <th>Date</th>\n",
       "      <th>Date_month_year</th>\n",
       "      <th>Time</th>\n",
       "      <th>Received Via</th>\n",
       "      <th>City</th>\n",
       "      <th>State</th>\n",
       "      <th>Zip code</th>\n",
       "      <th>Status</th>\n",
       "      <th>Filing on Behalf of Someone</th>\n",
       "      <th>month</th>\n",
       "    </tr>\n",
       "  </thead>\n",
       "  <tbody>\n",
       "    <tr>\n",
       "      <th>0</th>\n",
       "      <td>250635</td>\n",
       "      <td>Comcast Cable Internet Speeds</td>\n",
       "      <td>22-04-15</td>\n",
       "      <td>2015-04-22</td>\n",
       "      <td>3:53:50 PM</td>\n",
       "      <td>Customer Care Call</td>\n",
       "      <td>Abingdon</td>\n",
       "      <td>Maryland</td>\n",
       "      <td>21009</td>\n",
       "      <td>Closed</td>\n",
       "      <td>No</td>\n",
       "      <td>4</td>\n",
       "    </tr>\n",
       "    <tr>\n",
       "      <th>1</th>\n",
       "      <td>223441</td>\n",
       "      <td>Payment disappear - service got disconnected</td>\n",
       "      <td>04-08-15</td>\n",
       "      <td>2015-08-04</td>\n",
       "      <td>10:22:56 AM</td>\n",
       "      <td>Internet</td>\n",
       "      <td>Acworth</td>\n",
       "      <td>Georgia</td>\n",
       "      <td>30102</td>\n",
       "      <td>Closed</td>\n",
       "      <td>No</td>\n",
       "      <td>8</td>\n",
       "    </tr>\n",
       "    <tr>\n",
       "      <th>2</th>\n",
       "      <td>242732</td>\n",
       "      <td>Speed and Service</td>\n",
       "      <td>18-04-15</td>\n",
       "      <td>2015-04-18</td>\n",
       "      <td>9:55:47 AM</td>\n",
       "      <td>Internet</td>\n",
       "      <td>Acworth</td>\n",
       "      <td>Georgia</td>\n",
       "      <td>30101</td>\n",
       "      <td>Closed</td>\n",
       "      <td>Yes</td>\n",
       "      <td>4</td>\n",
       "    </tr>\n",
       "    <tr>\n",
       "      <th>3</th>\n",
       "      <td>277946</td>\n",
       "      <td>Comcast Imposed a New Usage Cap of 300GB that ...</td>\n",
       "      <td>05-07-15</td>\n",
       "      <td>2015-07-05</td>\n",
       "      <td>11:59:35 AM</td>\n",
       "      <td>Internet</td>\n",
       "      <td>Acworth</td>\n",
       "      <td>Georgia</td>\n",
       "      <td>30101</td>\n",
       "      <td>Open</td>\n",
       "      <td>Yes</td>\n",
       "      <td>7</td>\n",
       "    </tr>\n",
       "    <tr>\n",
       "      <th>4</th>\n",
       "      <td>307175</td>\n",
       "      <td>Comcast not working and no service to boot</td>\n",
       "      <td>26-05-15</td>\n",
       "      <td>2015-05-26</td>\n",
       "      <td>1:25:26 PM</td>\n",
       "      <td>Internet</td>\n",
       "      <td>Acworth</td>\n",
       "      <td>Georgia</td>\n",
       "      <td>30101</td>\n",
       "      <td>Solved</td>\n",
       "      <td>No</td>\n",
       "      <td>5</td>\n",
       "    </tr>\n",
       "  </tbody>\n",
       "</table>\n",
       "</div>"
      ],
      "text/plain": [
       "  Ticket #                                 Customer Complaint      Date  \\\n",
       "0   250635                      Comcast Cable Internet Speeds  22-04-15   \n",
       "1   223441       Payment disappear - service got disconnected  04-08-15   \n",
       "2   242732                                  Speed and Service  18-04-15   \n",
       "3   277946  Comcast Imposed a New Usage Cap of 300GB that ...  05-07-15   \n",
       "4   307175         Comcast not working and no service to boot  26-05-15   \n",
       "\n",
       "  Date_month_year         Time        Received Via      City     State  \\\n",
       "0      2015-04-22   3:53:50 PM  Customer Care Call  Abingdon  Maryland   \n",
       "1      2015-08-04  10:22:56 AM            Internet   Acworth   Georgia   \n",
       "2      2015-04-18   9:55:47 AM            Internet   Acworth   Georgia   \n",
       "3      2015-07-05  11:59:35 AM            Internet   Acworth   Georgia   \n",
       "4      2015-05-26   1:25:26 PM            Internet   Acworth   Georgia   \n",
       "\n",
       "   Zip code  Status Filing on Behalf of Someone  month  \n",
       "0     21009  Closed                          No      4  \n",
       "1     30102  Closed                          No      8  \n",
       "2     30101  Closed                         Yes      4  \n",
       "3     30101    Open                         Yes      7  \n",
       "4     30101  Solved                          No      5  "
      ]
     },
     "execution_count": 12,
     "metadata": {},
     "output_type": "execute_result"
    }
   ],
   "source": [
    "# Extracting the 'Months' from 'Date_month_year' columns\n",
    "df['month'] = df['Date_month_year'].dt.month\n",
    "df.head()"
   ]
  },
  {
   "cell_type": "code",
   "execution_count": 13,
   "id": "13a2db3c",
   "metadata": {},
   "outputs": [
    {
     "data": {
      "text/html": [
       "<div>\n",
       "<style scoped>\n",
       "    .dataframe tbody tr th:only-of-type {\n",
       "        vertical-align: middle;\n",
       "    }\n",
       "\n",
       "    .dataframe tbody tr th {\n",
       "        vertical-align: top;\n",
       "    }\n",
       "\n",
       "    .dataframe thead th {\n",
       "        text-align: right;\n",
       "    }\n",
       "</style>\n",
       "<table border=\"1\" class=\"dataframe\">\n",
       "  <thead>\n",
       "    <tr style=\"text-align: right;\">\n",
       "      <th></th>\n",
       "      <th>frequency</th>\n",
       "      <th>month</th>\n",
       "    </tr>\n",
       "  </thead>\n",
       "  <tbody>\n",
       "    <tr>\n",
       "      <th>1</th>\n",
       "      <td>55</td>\n",
       "      <td>1</td>\n",
       "    </tr>\n",
       "    <tr>\n",
       "      <th>2</th>\n",
       "      <td>59</td>\n",
       "      <td>2</td>\n",
       "    </tr>\n",
       "    <tr>\n",
       "      <th>3</th>\n",
       "      <td>45</td>\n",
       "      <td>3</td>\n",
       "    </tr>\n",
       "    <tr>\n",
       "      <th>4</th>\n",
       "      <td>375</td>\n",
       "      <td>4</td>\n",
       "    </tr>\n",
       "    <tr>\n",
       "      <th>5</th>\n",
       "      <td>317</td>\n",
       "      <td>5</td>\n",
       "    </tr>\n",
       "    <tr>\n",
       "      <th>6</th>\n",
       "      <td>1046</td>\n",
       "      <td>6</td>\n",
       "    </tr>\n",
       "  </tbody>\n",
       "</table>\n",
       "</div>"
      ],
      "text/plain": [
       "   frequency  month\n",
       "1         55      1\n",
       "2         59      2\n",
       "3         45      3\n",
       "4        375      4\n",
       "5        317      5\n",
       "6       1046      6"
      ]
     },
     "execution_count": 13,
     "metadata": {},
     "output_type": "execute_result"
    }
   ],
   "source": [
    "# checking the trend chart for the number of complaints at monthly granularity levels.\n",
    "\n",
    "x = df['month'].value_counts()\n",
    "mon_comp = pd.DataFrame(x)\n",
    "mon_comp = mon_comp.rename(columns = {\"month\" : \"frequency\"})\n",
    "mon_comp['month'] = mon_comp.index\n",
    "mon_comp = mon_comp.sort_values('month')\n",
    "mon_comp.head(6)"
   ]
  },
  {
   "cell_type": "code",
   "execution_count": 14,
   "id": "d00f4293",
   "metadata": {},
   "outputs": [
    {
     "data": {
      "text/plain": [
       "<AxesSubplot:xlabel='month', ylabel='frequency'>"
      ]
     },
     "execution_count": 14,
     "metadata": {},
     "output_type": "execute_result"
    },
    {
     "data": {
      "image/png": "[encoded data removed]",
      "text/plain": [
       "<Figure size 432x288 with 1 Axes>"
      ]
     },
     "metadata": {},
     "output_type": "display_data"
    }
   ],
   "source": [
    "sns.set_theme(style=\"whitegrid\")\n",
    "sns.barplot(x = 'month', y = 'frequency', data = mon_comp)"
   ]
  },
  {
   "cell_type": "markdown",
   "id": "c86e7903",
   "metadata": {},
   "source": [
    "June month has the highest number of complaints"
   ]
  },
  {
   "cell_type": "markdown",
   "id": "1b442eea",
   "metadata": {},
   "source": [
    "### 2. Provide a table with the frequency of complaint types."
   ]
  },
  {
   "cell_type": "code",
   "execution_count": 15,
   "id": "dc548d97",
   "metadata": {},
   "outputs": [
    {
     "data": {
      "text/plain": [
       "Comcast                                                           83\n",
       "Comcast Internet                                                  18\n",
       "Comcast Data Cap                                                  17\n",
       "comcast                                                           13\n",
       "Comcast Billing                                                   11\n",
       "                                                                  ..\n",
       "Installation Charges                                               1\n",
       "Paying for service for 12 months without recieving the service     1\n",
       "Double billing from Comcast                                        1\n",
       "Comcast monopoly hurting my business                               1\n",
       "Week long issues with speed and no help from comcast               1\n",
       "Name: Customer Complaint, Length: 1841, dtype: int64"
      ]
     },
     "execution_count": 15,
     "metadata": {},
     "output_type": "execute_result"
    }
   ],
   "source": [
    "df['Customer Complaint'].value_counts()"
   ]
  },
  {
   "cell_type": "markdown",
   "id": "3ef56dd5",
   "metadata": {},
   "source": [
    "Comcast contains the highest frequency of complain types."
   ]
  },
  {
   "cell_type": "markdown",
   "id": "68854d0a",
   "metadata": {},
   "source": [
    "### 3. Which complaint types are maximum i.e., around internet, network issues, or across any other domains?"
   ]
  },
  {
   "cell_type": "code",
   "execution_count": 16,
   "id": "d592659e",
   "metadata": {},
   "outputs": [
    {
     "data": {
      "text/plain": [
       "Received Via    Internet\n",
       "Count               1119\n",
       "dtype: object"
      ]
     },
     "execution_count": 16,
     "metadata": {},
     "output_type": "execute_result"
    }
   ],
   "source": [
    "df.groupby([\"Received Via\"]).size().sort_values(ascending=False).to_frame().reset_index().rename({0: \"Count\"}, axis=1).max()"
   ]
  },
  {
   "cell_type": "markdown",
   "id": "465f1150",
   "metadata": {},
   "source": [
    "### 4. Create a new categorical variable with value as Open and Closed. Open & Pending is to be categorized as Open and Closed & Solved is to be categorized as Closed."
   ]
  },
  {
   "cell_type": "code",
   "execution_count": 17,
   "id": "f2115616",
   "metadata": {},
   "outputs": [
    {
     "data": {
      "text/plain": [
       "array(['Closed', 'Open', 'Solved', 'Pending'], dtype=object)"
      ]
     },
     "execution_count": 17,
     "metadata": {},
     "output_type": "execute_result"
    }
   ],
   "source": [
    "df.Status.unique()"
   ]
  },
  {
   "cell_type": "code",
   "execution_count": 18,
   "id": "694aa84a",
   "metadata": {},
   "outputs": [
    {
     "data": {
      "text/html": [
       "<div>\n",
       "<style scoped>\n",
       "    .dataframe tbody tr th:only-of-type {\n",
       "        vertical-align: middle;\n",
       "    }\n",
       "\n",
       "    .dataframe tbody tr th {\n",
       "        vertical-align: top;\n",
       "    }\n",
       "\n",
       "    .dataframe thead th {\n",
       "        text-align: right;\n",
       "    }\n",
       "</style>\n",
       "<table border=\"1\" class=\"dataframe\">\n",
       "  <thead>\n",
       "    <tr style=\"text-align: right;\">\n",
       "      <th></th>\n",
       "      <th>Ticket #</th>\n",
       "      <th>Customer Complaint</th>\n",
       "      <th>Date</th>\n",
       "      <th>Date_month_year</th>\n",
       "      <th>Time</th>\n",
       "      <th>Received Via</th>\n",
       "      <th>City</th>\n",
       "      <th>State</th>\n",
       "      <th>Zip code</th>\n",
       "      <th>Status</th>\n",
       "      <th>Filing on Behalf of Someone</th>\n",
       "      <th>month</th>\n",
       "      <th>newStatus</th>\n",
       "    </tr>\n",
       "  </thead>\n",
       "  <tbody>\n",
       "    <tr>\n",
       "      <th>0</th>\n",
       "      <td>250635</td>\n",
       "      <td>Comcast Cable Internet Speeds</td>\n",
       "      <td>22-04-15</td>\n",
       "      <td>2015-04-22</td>\n",
       "      <td>3:53:50 PM</td>\n",
       "      <td>Customer Care Call</td>\n",
       "      <td>Abingdon</td>\n",
       "      <td>Maryland</td>\n",
       "      <td>21009</td>\n",
       "      <td>Closed</td>\n",
       "      <td>No</td>\n",
       "      <td>4</td>\n",
       "      <td>Closed</td>\n",
       "    </tr>\n",
       "    <tr>\n",
       "      <th>1</th>\n",
       "      <td>223441</td>\n",
       "      <td>Payment disappear - service got disconnected</td>\n",
       "      <td>04-08-15</td>\n",
       "      <td>2015-08-04</td>\n",
       "      <td>10:22:56 AM</td>\n",
       "      <td>Internet</td>\n",
       "      <td>Acworth</td>\n",
       "      <td>Georgia</td>\n",
       "      <td>30102</td>\n",
       "      <td>Closed</td>\n",
       "      <td>No</td>\n",
       "      <td>8</td>\n",
       "      <td>Closed</td>\n",
       "    </tr>\n",
       "    <tr>\n",
       "      <th>2</th>\n",
       "      <td>242732</td>\n",
       "      <td>Speed and Service</td>\n",
       "      <td>18-04-15</td>\n",
       "      <td>2015-04-18</td>\n",
       "      <td>9:55:47 AM</td>\n",
       "      <td>Internet</td>\n",
       "      <td>Acworth</td>\n",
       "      <td>Georgia</td>\n",
       "      <td>30101</td>\n",
       "      <td>Closed</td>\n",
       "      <td>Yes</td>\n",
       "      <td>4</td>\n",
       "      <td>Closed</td>\n",
       "    </tr>\n",
       "    <tr>\n",
       "      <th>3</th>\n",
       "      <td>277946</td>\n",
       "      <td>Comcast Imposed a New Usage Cap of 300GB that ...</td>\n",
       "      <td>05-07-15</td>\n",
       "      <td>2015-07-05</td>\n",
       "      <td>11:59:35 AM</td>\n",
       "      <td>Internet</td>\n",
       "      <td>Acworth</td>\n",
       "      <td>Georgia</td>\n",
       "      <td>30101</td>\n",
       "      <td>Open</td>\n",
       "      <td>Yes</td>\n",
       "      <td>7</td>\n",
       "      <td>Open</td>\n",
       "    </tr>\n",
       "    <tr>\n",
       "      <th>4</th>\n",
       "      <td>307175</td>\n",
       "      <td>Comcast not working and no service to boot</td>\n",
       "      <td>26-05-15</td>\n",
       "      <td>2015-05-26</td>\n",
       "      <td>1:25:26 PM</td>\n",
       "      <td>Internet</td>\n",
       "      <td>Acworth</td>\n",
       "      <td>Georgia</td>\n",
       "      <td>30101</td>\n",
       "      <td>Solved</td>\n",
       "      <td>No</td>\n",
       "      <td>5</td>\n",
       "      <td>Closed</td>\n",
       "    </tr>\n",
       "    <tr>\n",
       "      <th>...</th>\n",
       "      <td>...</td>\n",
       "      <td>...</td>\n",
       "      <td>...</td>\n",
       "      <td>...</td>\n",
       "      <td>...</td>\n",
       "      <td>...</td>\n",
       "      <td>...</td>\n",
       "      <td>...</td>\n",
       "      <td>...</td>\n",
       "      <td>...</td>\n",
       "      <td>...</td>\n",
       "      <td>...</td>\n",
       "      <td>...</td>\n",
       "    </tr>\n",
       "    <tr>\n",
       "      <th>2219</th>\n",
       "      <td>213550</td>\n",
       "      <td>Service Availability</td>\n",
       "      <td>04-02-15</td>\n",
       "      <td>2015-02-04</td>\n",
       "      <td>9:13:18 AM</td>\n",
       "      <td>Customer Care Call</td>\n",
       "      <td>Youngstown</td>\n",
       "      <td>Florida</td>\n",
       "      <td>32466</td>\n",
       "      <td>Closed</td>\n",
       "      <td>No</td>\n",
       "      <td>2</td>\n",
       "      <td>Closed</td>\n",
       "    </tr>\n",
       "    <tr>\n",
       "      <th>2220</th>\n",
       "      <td>318775</td>\n",
       "      <td>Comcast Monthly Billing for Returned Modem</td>\n",
       "      <td>06-02-15</td>\n",
       "      <td>2015-02-06</td>\n",
       "      <td>1:24:39 PM</td>\n",
       "      <td>Customer Care Call</td>\n",
       "      <td>Ypsilanti</td>\n",
       "      <td>Michigan</td>\n",
       "      <td>48197</td>\n",
       "      <td>Solved</td>\n",
       "      <td>No</td>\n",
       "      <td>2</td>\n",
       "      <td>Closed</td>\n",
       "    </tr>\n",
       "    <tr>\n",
       "      <th>2221</th>\n",
       "      <td>331188</td>\n",
       "      <td>complaint about comcast</td>\n",
       "      <td>06-09-15</td>\n",
       "      <td>2015-09-06</td>\n",
       "      <td>5:28:41 PM</td>\n",
       "      <td>Internet</td>\n",
       "      <td>Ypsilanti</td>\n",
       "      <td>Michigan</td>\n",
       "      <td>48197</td>\n",
       "      <td>Solved</td>\n",
       "      <td>No</td>\n",
       "      <td>9</td>\n",
       "      <td>Closed</td>\n",
       "    </tr>\n",
       "    <tr>\n",
       "      <th>2222</th>\n",
       "      <td>360489</td>\n",
       "      <td>Extremely unsatisfied Comcast customer</td>\n",
       "      <td>23-06-15</td>\n",
       "      <td>2015-06-23</td>\n",
       "      <td>11:13:30 PM</td>\n",
       "      <td>Customer Care Call</td>\n",
       "      <td>Ypsilanti</td>\n",
       "      <td>Michigan</td>\n",
       "      <td>48197</td>\n",
       "      <td>Solved</td>\n",
       "      <td>No</td>\n",
       "      <td>6</td>\n",
       "      <td>Closed</td>\n",
       "    </tr>\n",
       "    <tr>\n",
       "      <th>2223</th>\n",
       "      <td>363614</td>\n",
       "      <td>Comcast, Ypsilanti MI Internet Speed</td>\n",
       "      <td>24-06-15</td>\n",
       "      <td>2015-06-24</td>\n",
       "      <td>10:28:33 PM</td>\n",
       "      <td>Customer Care Call</td>\n",
       "      <td>Ypsilanti</td>\n",
       "      <td>Michigan</td>\n",
       "      <td>48198</td>\n",
       "      <td>Open</td>\n",
       "      <td>Yes</td>\n",
       "      <td>6</td>\n",
       "      <td>Open</td>\n",
       "    </tr>\n",
       "  </tbody>\n",
       "</table>\n",
       "<p>2224 rows × 13 columns</p>\n",
       "</div>"
      ],
      "text/plain": [
       "     Ticket #                                 Customer Complaint      Date  \\\n",
       "0      250635                      Comcast Cable Internet Speeds  22-04-15   \n",
       "1      223441       Payment disappear - service got disconnected  04-08-15   \n",
       "2      242732                                  Speed and Service  18-04-15   \n",
       "3      277946  Comcast Imposed a New Usage Cap of 300GB that ...  05-07-15   \n",
       "4      307175         Comcast not working and no service to boot  26-05-15   \n",
       "...       ...                                                ...       ...   \n",
       "2219   213550                               Service Availability  04-02-15   \n",
       "2220   318775         Comcast Monthly Billing for Returned Modem  06-02-15   \n",
       "2221   331188                            complaint about comcast  06-09-15   \n",
       "2222   360489             Extremely unsatisfied Comcast customer  23-06-15   \n",
       "2223   363614               Comcast, Ypsilanti MI Internet Speed  24-06-15   \n",
       "\n",
       "     Date_month_year         Time        Received Via        City     State  \\\n",
       "0         2015-04-22   3:53:50 PM  Customer Care Call    Abingdon  Maryland   \n",
       "1         2015-08-04  10:22:56 AM            Internet     Acworth   Georgia   \n",
       "2         2015-04-18   9:55:47 AM            Internet     Acworth   Georgia   \n",
       "3         2015-07-05  11:59:35 AM            Internet     Acworth   Georgia   \n",
       "4         2015-05-26   1:25:26 PM            Internet     Acworth   Georgia   \n",
       "...              ...          ...                 ...         ...       ...   \n",
       "2219      2015-02-04   9:13:18 AM  Customer Care Call  Youngstown   Florida   \n",
       "2220      2015-02-06   1:24:39 PM  Customer Care Call   Ypsilanti  Michigan   \n",
       "2221      2015-09-06   5:28:41 PM            Internet   Ypsilanti  Michigan   \n",
       "2222      2015-06-23  11:13:30 PM  Customer Care Call   Ypsilanti  Michigan   \n",
       "2223      2015-06-24  10:28:33 PM  Customer Care Call   Ypsilanti  Michigan   \n",
       "\n",
       "      Zip code  Status Filing on Behalf of Someone  month newStatus  \n",
       "0        21009  Closed                          No      4    Closed  \n",
       "1        30102  Closed                          No      8    Closed  \n",
       "2        30101  Closed                         Yes      4    Closed  \n",
       "3        30101    Open                         Yes      7      Open  \n",
       "4        30101  Solved                          No      5    Closed  \n",
       "...        ...     ...                         ...    ...       ...  \n",
       "2219     32466  Closed                          No      2    Closed  \n",
       "2220     48197  Solved                          No      2    Closed  \n",
       "2221     48197  Solved                          No      9    Closed  \n",
       "2222     48197  Solved                          No      6    Closed  \n",
       "2223     48198    Open                         Yes      6      Open  \n",
       "\n",
       "[2224 rows x 13 columns]"
      ]
     },
     "execution_count": 18,
     "metadata": {},
     "output_type": "execute_result"
    }
   ],
   "source": [
    "df[\"newStatus\"] = [\"Open\" if Status==\"Open\" or Status==\"Pending\" else \"Closed\" for Status in df[\"Status\"]]\n",
    "df"
   ]
  },
  {
   "cell_type": "markdown",
   "id": "97714f02",
   "metadata": {},
   "source": [
    "### 5. Which state has the maximum complaints?"
   ]
  },
  {
   "cell_type": "code",
   "execution_count": 19,
   "id": "8cf39769",
   "metadata": {},
   "outputs": [
    {
     "data": {
      "text/plain": [
       "State\n",
       "Georgia       288\n",
       "Florida       240\n",
       "California    220\n",
       "Illinois      164\n",
       "Tennessee     143\n",
       "dtype: int64"
      ]
     },
     "execution_count": 19,
     "metadata": {},
     "output_type": "execute_result"
    }
   ],
   "source": [
    "df.groupby([\"State\"]).size().sort_values(ascending=False)[:5]"
   ]
  },
  {
   "cell_type": "markdown",
   "id": "e71bc193",
   "metadata": {},
   "source": [
    "### 6. Provide state wise status of complaints in a stacked bar chart. "
   ]
  },
  {
   "cell_type": "code",
   "execution_count": 20,
   "id": "ecc6a9c6",
   "metadata": {},
   "outputs": [
    {
     "name": "stdout",
     "output_type": "stream",
     "text": [
      "newStatus             Closed  Open\n",
      "State                             \n",
      "Alabama                 17.0   9.0\n",
      "Arizona                 14.0   6.0\n",
      "Arkansas                 6.0   NaN\n",
      "California             159.0  61.0\n",
      "Colorado                58.0  22.0\n",
      "Connecticut              9.0   3.0\n",
      "Delaware                 8.0   4.0\n",
      "District Of Columbia    14.0   2.0\n",
      "District of Columbia     1.0   NaN\n",
      "Florida                201.0  39.0\n",
      "Georgia                208.0  80.0\n",
      "Illinois               135.0  29.0\n",
      "Indiana                 50.0   9.0\n",
      "Iowa                     1.0   NaN\n",
      "Kansas                   1.0   1.0\n",
      "Kentucky                 4.0   3.0\n",
      "Louisiana               12.0   1.0\n",
      "Maine                    3.0   2.0\n",
      "Maryland                63.0  15.0\n",
      "Massachusetts           50.0  11.0\n",
      "Michigan                92.0  23.0\n",
      "Minnesota               29.0   4.0\n",
      "Mississippi             23.0  16.0\n",
      "Missouri                 3.0   1.0\n",
      "Montana                  1.0   NaN\n",
      "Nevada                   1.0   NaN\n",
      "New Hampshire            8.0   4.0\n",
      "New Jersey              56.0  19.0\n",
      "New Mexico              11.0   4.0\n",
      "New York                 6.0   NaN\n",
      "North Carolina           3.0   NaN\n",
      "Ohio                     3.0   NaN\n",
      "Oregon                  36.0  13.0\n",
      "Pennsylvania           110.0  20.0\n",
      "Rhode Island             1.0   NaN\n",
      "South Carolina          15.0   3.0\n",
      "Tennessee               96.0  47.0\n",
      "Texas                   49.0  22.0\n",
      "Utah                    16.0   6.0\n",
      "Vermont                  2.0   1.0\n",
      "Virginia                49.0  11.0\n",
      "Washington              75.0  23.0\n",
      "West Virginia            8.0   3.0\n"
     ]
    }
   ],
   "source": [
    "Status_complaints = df.groupby([\"State\",\"newStatus\"]).size().unstack()\n",
    "print(Status_complaints)"
   ]
  },
  {
   "cell_type": "code",
   "execution_count": 21,
   "id": "ccf73b34",
   "metadata": {
    "scrolled": true
   },
   "outputs": [
    {
     "data": {
      "text/plain": [
       "<AxesSubplot:xlabel='State'>"
      ]
     },
     "execution_count": 21,
     "metadata": {},
     "output_type": "execute_result"
    },
    {
     "data": {
      "image/png": "[encoded data removed]",
      "text/plain": [
       "<Figure size 1440x720 with 1 Axes>"
      ]
     },
     "metadata": {},
     "output_type": "display_data"
    }
   ],
   "source": [
    "Status_complaints.plot.bar(figsize=(20,10), stacked=True)"
   ]
  },
  {
   "cell_type": "markdown",
   "id": "95b7d596",
   "metadata": {},
   "source": [
    "* The highest number of complaints recorded from the state Georgia and the second highest number of complaints recorded from the state Florida."
   ]
  },
  {
   "cell_type": "markdown",
   "id": "6a9a5ed6",
   "metadata": {},
   "source": [
    "### 7. Which state has the highest percentage of unresolved complaints?"
   ]
  },
  {
   "cell_type": "code",
   "execution_count": 22,
   "id": "df6a5e4b",
   "metadata": {},
   "outputs": [
    {
     "name": "stdout",
     "output_type": "stream",
     "text": [
      "Closed    1707\n",
      "Open       517\n",
      "Name: newStatus, dtype: int64\n"
     ]
    }
   ],
   "source": [
    "print(df['newStatus'].value_counts())"
   ]
  },
  {
   "cell_type": "code",
   "execution_count": 23,
   "id": "eb36c410",
   "metadata": {},
   "outputs": [
    {
     "name": "stdout",
     "output_type": "stream",
     "text": [
      "newStatus             Closed  Open  Unresolved_cmp_prct\n",
      "State                                                  \n",
      "Georgia                208.0  80.0            15.473888\n",
      "California             159.0  61.0            11.798839\n",
      "Tennessee               96.0  47.0             9.090909\n",
      "Florida                201.0  39.0             7.543520\n",
      "Illinois               135.0  29.0             5.609284\n",
      "Washington              75.0  23.0             4.448743\n",
      "Michigan                92.0  23.0             4.448743\n",
      "Colorado                58.0  22.0             4.255319\n",
      "Texas                   49.0  22.0             4.255319\n",
      "Pennsylvania           110.0  20.0             3.868472\n",
      "New Jersey              56.0  19.0             3.675048\n",
      "Mississippi             23.0  16.0             3.094778\n",
      "Maryland                63.0  15.0             2.901354\n",
      "Oregon                  36.0  13.0             2.514507\n",
      "Virginia                49.0  11.0             2.127660\n",
      "Massachusetts           50.0  11.0             2.127660\n",
      "Alabama                 17.0   9.0             1.740812\n",
      "Indiana                 50.0   9.0             1.740812\n",
      "Utah                    16.0   6.0             1.160542\n",
      "Arizona                 14.0   6.0             1.160542\n",
      "New Hampshire            8.0   4.0             0.773694\n",
      "New Mexico              11.0   4.0             0.773694\n",
      "Minnesota               29.0   4.0             0.773694\n",
      "Delaware                 8.0   4.0             0.773694\n",
      "West Virginia            8.0   3.0             0.580271\n",
      "Connecticut              9.0   3.0             0.580271\n",
      "Kentucky                 4.0   3.0             0.580271\n",
      "South Carolina          15.0   3.0             0.580271\n",
      "Maine                    3.0   2.0             0.386847\n",
      "District Of Columbia    14.0   2.0             0.386847\n",
      "Kansas                   1.0   1.0             0.193424\n",
      "Vermont                  2.0   1.0             0.193424\n",
      "Missouri                 3.0   1.0             0.193424\n",
      "Louisiana               12.0   1.0             0.193424\n",
      "Montana                  1.0   0.0             0.000000\n",
      "Rhode Island             1.0   0.0             0.000000\n",
      "Ohio                     3.0   0.0             0.000000\n",
      "District of Columbia     1.0   0.0             0.000000\n",
      "North Carolina           3.0   0.0             0.000000\n",
      "New York                 6.0   0.0             0.000000\n",
      "Nevada                   1.0   0.0             0.000000\n",
      "Arkansas                 6.0   0.0             0.000000\n",
      "Iowa                     1.0   0.0             0.000000\n"
     ]
    },
    {
     "data": {
      "text/plain": [
       "<AxesSubplot:xlabel='State'>"
      ]
     },
     "execution_count": 23,
     "metadata": {},
     "output_type": "execute_result"
    },
    {
     "data": {
      "image/png": "[encoded data removed]",
      "text/plain": [
       "<Figure size 432x288 with 1 Axes>"
      ]
     },
     "metadata": {},
     "output_type": "display_data"
    }
   ],
   "source": [
    "unresolved_data = df.groupby([\"State\",'newStatus']).size().unstack().fillna(0).sort_values(by='Open',ascending=False)\n",
    "unresolved_data['Unresolved_cmp_prct'] = unresolved_data['Open']/unresolved_data['Open'].sum()*100\n",
    "print(unresolved_data)\n",
    "unresolved_data.plot()"
   ]
  },
  {
   "cell_type": "markdown",
   "id": "644462d3",
   "metadata": {},
   "source": [
    "### 8. Provide the percentage of complaints resolved till date, which were received through the Internet and customer care call."
   ]
  },
  {
   "cell_type": "code",
   "execution_count": 24,
   "id": "a2faa35d",
   "metadata": {},
   "outputs": [
    {
     "data": {
      "text/plain": [
       "Received Via\n",
       "Customer Care Call    50.615114\n",
       "Internet              49.384886\n",
       "Name: resolved, dtype: float64"
      ]
     },
     "execution_count": 24,
     "metadata": {},
     "output_type": "execute_result"
    }
   ],
   "source": [
    "resolved_data = df.groupby(['Received Via','newStatus']).size().unstack().fillna(0)\n",
    "resolved_data['resolved'] = resolved_data['Closed']/resolved_data['Closed'].sum()*100\n",
    "resolved_data['resolved']"
   ]
  },
  {
   "cell_type": "code",
   "execution_count": 25,
   "id": "7eef0b70",
   "metadata": {},
   "outputs": [
    {
     "data": {
      "text/plain": [
       "<AxesSubplot:xlabel='Received Via'>"
      ]
     },
     "execution_count": 25,
     "metadata": {},
     "output_type": "execute_result"
    },
    {
     "data": {
      "image/png": "[encoded data removed]",
      "text/plain": [
       "<Figure size 1080x360 with 1 Axes>"
      ]
     },
     "metadata": {},
     "output_type": "display_data"
    }
   ],
   "source": [
    "resolved_data.plot(kind=\"bar\", figsize=(15,5))"
   ]
  },
  {
   "cell_type": "code",
   "execution_count": null,
   "id": "80e526c7",
   "metadata": {},
   "outputs": [],
   "source": []
  },
  {
   "cell_type": "markdown",
   "id": "67bcf3c9",
   "metadata": {},
   "source": [
    "# References :\n"
   ]
  },
  {
   "cell_type": "markdown",
   "id": "9ed3892a",
   "metadata": {},
   "source": [
    "https://pandas.pydata.org/pandas-docs/stable/reference/api/pandas.DataFrame.groupby.html"
   ]
  },
  {
   "cell_type": "markdown",
   "id": "abe66fa9",
   "metadata": {},
   "source": [
    "https://www.dezyre.com/recipes/unstack-python"
   ]
  },
  {
   "cell_type": "code",
   "execution_count": null,
   "id": "f913e0e7",
   "metadata": {},
   "outputs": [],
   "source": []
  }
 ],
 "metadata": {
  "kernelspec": {
   "display_name": "Python 3",
   "language": "python",
   "name": "python3"
  },
  "language_info": {
   "codemirror_mode": {
    "name": "ipython",
    "version": 3
   },
   "file_extension": ".py",
   "mimetype": "text/x-python",
   "name": "python",
   "nbconvert_exporter": "python",
   "pygments_lexer": "ipython3",
   "version": "3.8.8"
  }
 },
 "nbformat": 4,
 "nbformat_minor": 5
}
